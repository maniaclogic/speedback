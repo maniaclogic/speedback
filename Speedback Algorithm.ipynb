{
 "cells": [
  {
   "cell_type": "markdown",
   "metadata": {},
   "source": [
    "# Remote Speedback Automation"
   ]
  },
  {
   "cell_type": "code",
   "execution_count": null,
   "metadata": {},
   "outputs": [],
   "source": [
    "import itertools\n",
    "from datetime import time, timedelta, datetime"
   ]
  },
  {
   "cell_type": "markdown",
   "metadata": {},
   "source": [
    "import the names of the people participating and their room link from a txt file:"
   ]
  },
  {
   "cell_type": "code",
   "execution_count": null,
   "metadata": {},
   "outputs": [],
   "source": [
    "with open(\"speedback_participants.txt\") as speedback_participants:\n",
    "    list_of_participants = list(speedback_participants.readlines())\n",
    "    speedback_participants = [line.rstrip('\\n') for line in list_of_participants]"
   ]
  },
  {
   "cell_type": "markdown",
   "metadata": {},
   "source": [
    "creating a dictionary from names to links to enable a lookup later"
   ]
  },
  {
   "cell_type": "code",
   "execution_count": null,
   "metadata": {},
   "outputs": [],
   "source": [
    "participants_mapped_to_links = { participant.split(\",\")[0] : participant.split(\", \")[1] for participant in speedback_participants }"
   ]
  },
  {
   "cell_type": "markdown",
   "metadata": {},
   "source": [
    "Now we don't need the links for now. Let's get rid of them."
   ]
  },
  {
   "cell_type": "code",
   "execution_count": null,
   "metadata": {},
   "outputs": [],
   "source": [
    "participants = list(participants_mapped_to_links.keys())"
   ]
  },
  {
   "cell_type": "markdown",
   "metadata": {},
   "source": [
    "Defining the first function that will give us the simple pairing possibilities."
   ]
  },
  {
   "cell_type": "code",
   "execution_count": null,
   "metadata": {},
   "outputs": [],
   "source": [
    "def build_pairings(list_of_pariticipants_names):\n",
    "    create_pairings = list(itertools.combinations(participants, 2))\n",
    "    return [list(pair) for pair in create_pairings]"
   ]
  },
  {
   "cell_type": "code",
   "execution_count": null,
   "metadata": {},
   "outputs": [],
   "source": [
    "pairings = build_pairings(participants)"
   ]
  },
  {
   "cell_type": "code",
   "execution_count": null,
   "metadata": {},
   "outputs": [],
   "source": [
    "def is_not_in_iteration(participant, iteration):\n",
    "    hasnt_yet_given_feedback = True\n",
    "    for pair in iteration:\n",
    "        if participant in pair:\n",
    "            hasnt_yet_given_feedback = False\n",
    "    return hasnt_yet_given_feedback"
   ]
  },
  {
   "cell_type": "markdown",
   "metadata": {},
   "source": [
    "def populate_grid(grid, pairs):\n",
    "    index = 0\n",
    "    if(index>=len(pairs)):\n",
    "        return (True, grid)\n",
    "    for row in range(len(grid)):\n",
    "        print(row)\n",
    "        for pair in pairs:\n",
    "            print(pair)\n",
    "            if(is_not_in_iteration(pair[0], grid[row]) and is_not_in_iteration(pair[1], grid[row])):\n",
    "                for columnIndex in range(len(grid[row])):\n",
    "                    if grid[row][columnIndex] == \"None\":\n",
    "                        grid[row][columnIndex] = pair\n",
    "                        index += 1\n",
    "                        pairs.remove(pair)\n",
    "                        break\n",
    "    return (grid)"
   ]
  },
  {
   "cell_type": "markdown",
   "metadata": {},
   "source": [
    "def containsCommonMember(self, other):\n",
    "        return (self.__class__ == other.__class__ and\n",
    "        (self.member1==other.member1 or\n",
    "        self.member1==other.member2 or\n",
    "        self.member2==other.member1 or\n",
    "        self.member2==other.member2))"
   ]
  },
  {
   "cell_type": "markdown",
   "metadata": {},
   "source": [
    "def not_in_iteration(self, participant, grid, rowIndex):\n",
    "        result = False\n",
    "        for element in grid[rowIndex]:\n",
    "            if(pair.containsCommonMember(element)):\n",
    "                result = False\n",
    "                break\n",
    "            if(element is None):\n",
    "                result = True\n",
    "        return result"
   ]
  },
  {
   "cell_type": "markdown",
   "metadata": {},
   "source": [
    "grid[1][1]"
   ]
  },
  {
   "cell_type": "markdown",
   "metadata": {},
   "source": [
    "populate_grid(grid, pairings)"
   ]
  },
  {
   "cell_type": "markdown",
   "metadata": {},
   "source": [
    "Assign Pairs to rounds."
   ]
  },
  {
   "cell_type": "markdown",
   "metadata": {},
   "source": [
    "Utility Function:"
   ]
  },
  {
   "cell_type": "markdown",
   "metadata": {},
   "source": [
    "Create rudementary matrix:\n",
    "\n",
    "TODO: Rotationsprinzip = everyone is rotating im Uhrzeigersinn, except for one person"
   ]
  },
  {
   "cell_type": "code",
   "execution_count": null,
   "metadata": {},
   "outputs": [],
   "source": [
    "def super_efficient_pairing_matrix(member):\n",
    "    # non_mover = member[0]\n",
    "    # if len(list)/2 % != 0 list.append(\"self-reflection\")\n",
    "    matrix = []\n",
    "    this = int(len(member)/2)\n",
    "    list_a = [i for i in member[:this]]\n",
    "    list_b = [i for i in member[this:]]\n",
    "\n",
    "    for index in range(len(list_a)):\n",
    "        matrix.append([list_a[index], list_b[index]])\n",
    "\n",
    "    for index in range(len(list_a)):\n",
    "        b = list_a[:]\n",
    "        b.insert((index+1), list_a[index])\n",
    "        print(b)\n",
    "    \n",
    "    #print(list_a)\n",
    "    #print(list_b)\n",
    "    print(matrix)"
   ]
  },
  {
   "cell_type": "code",
   "execution_count": null,
   "metadata": {},
   "outputs": [],
   "source": [
    "super_efficient_pairing_matrix(participants)"
   ]
  },
  {
   "cell_type": "code",
   "execution_count": null,
   "metadata": {},
   "outputs": [],
   "source": [
    "def pairing_matrix(feedback_pairs):\n",
    "    iteration = [[\"\", \"\"]]\n",
    "    matrix = []\n",
    "    \n",
    "    while len(feedback_pairs) > 0:\n",
    "        for pair in feedback_pairs:\n",
    "            if is_not_in_iteration(pair[0], iteration) & is_not_in_iteration(pair[1], iteration):\n",
    "                iteration.append(pair)\n",
    "                feedback_pairs.remove(pair)\n",
    "        matrix.append(iteration[1:])\n",
    "        iteration = [[\"\", \"\"]]\n",
    "        \n",
    "    matrix[-2] = matrix[-2] + matrix[-1]\n",
    "    matrix.pop()\n",
    "    return matrix"
   ]
  },
  {
   "cell_type": "code",
   "execution_count": null,
   "metadata": {},
   "outputs": [],
   "source": [
    "matrix = pairing_matrix(pairings)"
   ]
  },
  {
   "cell_type": "markdown",
   "metadata": {},
   "source": [
    "Tasks:\n",
    "   - assign time per round\n",
    "   - assign room per pair\n",
    "   - assure client have their room chosen\n",
    "   - format for copy paste"
   ]
  },
  {
   "cell_type": "code",
   "execution_count": null,
   "metadata": {},
   "outputs": [],
   "source": [
    "def assign_time(start_time, pairing_matrix):\n",
    "    current_time = datetime.strptime(start_time, \"%H\")\n",
    "    new_time = current_time + timedelta(minutes=8)\n",
    "    #add_time_list = [iteration.insert(0, new_time) for iteration in len(pairing_matrix)]\n",
    "    \n",
    "    for iteration in pairing_matrix:\n",
    "        new_time = current_time + timedelta(minutes=8)\n",
    "        string_time = \"{} - {}\".format(current_time.time(), new_time.time())\n",
    "        iteration.insert(0, string_time)\n",
    "        current_time = new_time + timedelta(minutes=2)\n",
    "    \n",
    "    return pairing_matrix"
   ]
  },
  {
   "cell_type": "code",
   "execution_count": null,
   "metadata": {},
   "outputs": [],
   "source": [
    "assign_time(\"10\", matrix)"
   ]
  },
  {
   "cell_type": "code",
   "execution_count": null,
   "metadata": {},
   "outputs": [],
   "source": [
    "def find_correct_link(pair, dict_participants_links):\n",
    "    #if dict_participants_links.get(pair[0]).contains(\"client\") or dict_participants_links.get(pair[1]).contains(\"client\"):\n",
    "    person_a = dict_participants_links.get(pair[0])\n",
    "    person_b = dict_participants_links.get(pair[1])\n",
    "    person_a_is_client = \"client\" in person_a\n",
    "    person_b_is_client = \"client\" in person_b\n",
    "    if person_a_is_client:\n",
    "        return person_a.rsplit(\"client; \")[1]\n",
    "    elif person_b_is_client:\n",
    "        return person_b.rsplit(\"client; \")[1]\n",
    "    elif \"zoom\" in person_a:\n",
    "        return person_a\n",
    "    elif person_b == \"no_room\":\n",
    "        return person_a\n",
    "    else:\n",
    "        return person_b"
   ]
  },
  {
   "cell_type": "code",
   "execution_count": null,
   "metadata": {},
   "outputs": [],
   "source": [
    "def assign_room(pairing_matrix, dict_participants_links):\n",
    "    for iteration in pairing_matrix:\n",
    "        for pair in iteration[1:]:\n",
    "            link_to_append = find_correct_link(pair, dict_participants_links)\n",
    "            pair.append(link_to_append)\n",
    "    \n",
    "    return pairing_matrix"
   ]
  },
  {
   "cell_type": "code",
   "execution_count": null,
   "metadata": {},
   "outputs": [],
   "source": [
    "matrix = assign_room(matrix, participants_mapped_to_links)"
   ]
  },
  {
   "cell_type": "code",
   "execution_count": null,
   "metadata": {},
   "outputs": [],
   "source": [
    "def formatting(ready_pairing_matrix):\n",
    "    for iteration in ready_pairing_matrix:\n",
    "        print(iteration[0], \"\\r\\n\")\n",
    "        for item in iteration[1:]:\n",
    "            print(\"{}, {} - {}\".format(item[0], item[1], item[2]))\n",
    "        print(\"\\r\\n\")"
   ]
  },
  {
   "cell_type": "code",
   "execution_count": null,
   "metadata": {},
   "outputs": [],
   "source": [
    "formatting(matrix)"
   ]
  },
  {
   "cell_type": "code",
   "execution_count": null,
   "metadata": {},
   "outputs": [],
   "source": []
  }
 ],
 "metadata": {
  "kernelspec": {
   "display_name": "Python 3",
   "language": "python",
   "name": "python3"
  },
  "language_info": {
   "codemirror_mode": {
    "name": "ipython",
    "version": 3
   },
   "file_extension": ".py",
   "mimetype": "text/x-python",
   "name": "python",
   "nbconvert_exporter": "python",
   "pygments_lexer": "ipython3",
   "version": "3.8.3"
  }
 },
 "nbformat": 4,
 "nbformat_minor": 4
}
